{
 "cells": [
  {
   "cell_type": "markdown",
   "metadata": {},
   "source": [
    "## Documentación"
   ]
  },
  {
   "cell_type": "markdown",
   "metadata": {},
   "source": [
    "En este Notebook se recogen todas las funcionalidades implementadas junto con sus explicaciones y ejemplos ilustrativos de su uso."
   ]
  },
  {
   "cell_type": "markdown",
   "metadata": {},
   "source": [
    "Primero importamos todas las funciones del paquete functions así como numpy y pandas"
   ]
  },
  {
   "cell_type": "code",
   "execution_count": 14,
   "metadata": {},
   "outputs": [],
   "source": [
    "from functionsP import *\n",
    "import numpy as np\n",
    "import pandas as pd"
   ]
  },
  {
   "cell_type": "markdown",
   "metadata": {},
   "source": [
    "Generamos diferentes tipos de arrays y un dataset de ejemplo con 10 individuos y 7 variables."
   ]
  },
  {
   "cell_type": "code",
   "execution_count": 15,
   "metadata": {},
   "outputs": [],
   "source": [
    "#Arrays base de python\n",
    "a_n = [1.6,3.6,5.5,3.7,1.3,5.6,7.3,8.8,2.5,6.9]\n",
    "a_l = ['a','a','c','b','c','j','s','h','b','j']\n",
    "\n",
    "#Arrays de numpy\n",
    "n_n = np.array(a_n)\n",
    "n_l = np.array(a_l)\n",
    "\n",
    "#Series de pandas\n",
    "p_n = pd.Series(a_n)\n",
    "p_l = pd.Series(a_l)\n",
    "\n",
    "#Dataframe de pandas\n",
    "Name = ['Juan','Pedro','Maria','Jose','Luis','Ana','Rosa','Carlos','Jorge','Luisa']\n",
    "Subject = ['Math','Biology','Chemistry','Math','Math','Biology','Chemistry','Math','Math','Biology']\n",
    "Problem_1 = [5.5,9.5,4.0,4.5,3.0,6.5,5.0,9.5,4.0,7.5] #out of 10\n",
    "Problem_2 = [0.45,0.90,0.60,0.75,0.30,0.25,0.40,0.85,0.60,0.65] #out of 1\n",
    "Problem_3 = [35,85,70,85,30,45,30,75,13,55] #out of 100\n",
    "Extra_Points = [2,0,2,3,0,1,0,1,1,1] #out of 3\n",
    "Pass = [True,True,True,True,False,False,False,True,False,True]\n",
    "\n",
    "df = pd.DataFrame({'Name':Name,'Subject':Subject,'Problem_1':Problem_1,'Problem_2':Problem_2,'Problem_3':Problem_3,'Extra_Points':Extra_Points,'Pass':Pass})"
   ]
  },
  {
   "cell_type": "markdown",
   "metadata": {},
   "source": [
    "Imprimimos los datos por pantalla para ver como han quedado"
   ]
  },
  {
   "cell_type": "code",
   "execution_count": 16,
   "metadata": {},
   "outputs": [
    {
     "name": "stdout",
     "output_type": "stream",
     "text": [
      "Array de python\n",
      "Numérico:\n",
      " [1.6, 3.6, 5.5, 3.7, 1.3, 5.6, 7.3, 8.8, 2.5, 6.9]\n",
      "String:\n",
      " ['a', 'a', 'c', 'b', 'c', 'j', 's', 'h', 'b', 'j']\n",
      "Array de numpy\n",
      "Numérico:\n",
      " [1.6 3.6 5.5 3.7 1.3 5.6 7.3 8.8 2.5 6.9]\n",
      "String:\n",
      " ['a' 'a' 'c' 'b' 'c' 'j' 's' 'h' 'b' 'j']\n"
     ]
    }
   ],
   "source": [
    "#Array de python\n",
    "print('Array de python')\n",
    "print(\"Numérico:\\n\",a_n)\n",
    "print(\"String:\\n\",a_l)\n",
    "\n",
    "#Array de numpy\n",
    "print('Array de numpy')\n",
    "print(\"Numérico:\\n\",n_n)\n",
    "print(\"String:\\n\",n_l)"
   ]
  },
  {
   "cell_type": "code",
   "execution_count": 17,
   "metadata": {},
   "outputs": [
    {
     "name": "stdout",
     "output_type": "stream",
     "text": [
      "Series de pandas\n",
      "Numérico:\n",
      " 0    1.6\n",
      "1    3.6\n",
      "2    5.5\n",
      "3    3.7\n",
      "4    1.3\n",
      "5    5.6\n",
      "6    7.3\n",
      "7    8.8\n",
      "8    2.5\n",
      "9    6.9\n",
      "dtype: float64\n",
      "String:\n",
      " 0    a\n",
      "1    a\n",
      "2    c\n",
      "3    b\n",
      "4    c\n",
      "5    j\n",
      "6    s\n",
      "7    h\n",
      "8    b\n",
      "9    j\n",
      "dtype: object\n"
     ]
    }
   ],
   "source": [
    "#Series de pandas\n",
    "print('Series de pandas')\n",
    "print(\"Numérico:\\n\",p_n)\n",
    "print(\"String:\\n\",p_l)"
   ]
  },
  {
   "cell_type": "code",
   "execution_count": 18,
   "metadata": {},
   "outputs": [
    {
     "name": "stdout",
     "output_type": "stream",
     "text": [
      "Dataframe de pandas\n",
      "     Name    Subject  Problem_1  Problem_2  Problem_3  Extra_Points   Pass\n",
      "0    Juan       Math        5.5       0.45         35             2   True\n",
      "1   Pedro    Biology        9.5       0.90         85             0   True\n",
      "2   Maria  Chemistry        4.0       0.60         70             2   True\n",
      "3    Jose       Math        4.5       0.75         85             3   True\n",
      "4    Luis       Math        3.0       0.30         30             0  False\n",
      "5     Ana    Biology        6.5       0.25         45             1  False\n",
      "6    Rosa  Chemistry        5.0       0.40         30             0  False\n",
      "7  Carlos       Math        9.5       0.85         75             1   True\n",
      "8   Jorge       Math        4.0       0.60         13             1  False\n",
      "9   Luisa    Biology        7.5       0.65         55             1   True\n"
     ]
    }
   ],
   "source": [
    "#Dataframe de pandas\n",
    "print('Dataframe de pandas')\n",
    "print(df)"
   ]
  },
  {
   "cell_type": "markdown",
   "metadata": {},
   "source": [
    "# Algoritmos de discretización"
   ]
  },
  {
   "cell_type": "markdown",
   "metadata": {},
   "source": [
    "Discretización para un solo atributo"
   ]
  },
  {
   "cell_type": "code",
   "execution_count": 19,
   "metadata": {},
   "outputs": [
    {
     "name": "stdout",
     "output_type": "stream",
     "text": [
      "Discretización por igual anchura\n",
      "Array de python:\n",
      " [0 0 1 0 0 1 2 2 0 2]\n",
      "Array de numpy:\n",
      " [0 0 1 0 0 1 2 2 0 2]\n",
      "Series de pandas:\n",
      " [0 0 1 0 0 1 2 2 0 2]\n",
      "\n",
      "Discretización por igual frecuencia\n",
      "Array de python:\n",
      " [0 0 1 1 0 1 2 2 0 2]\n",
      "Array de numpy:\n",
      " [0 0 1 1 0 1 2 2 0 2]\n",
      "Series de pandas:\n",
      " [0 0 1 1 0 1 2 2 0 2]\n"
     ]
    }
   ],
   "source": [
    "#discretización por igual anchura\n",
    "print('Discretización por igual anchura')\n",
    "print(\"Array de python:\\n\",discretizarEW(a_n,3,labels=False))\n",
    "print(\"Array de numpy:\\n\",discretizarEW(n_n,3,labels=False))\n",
    "print(\"Series de pandas:\\n\",discretizarEW(p_n,3,labels=False))\n",
    "\n",
    "#discretización por igual frecuencia\n",
    "print('\\nDiscretización por igual frecuencia')\n",
    "print(\"Array de python:\\n\",discretizarEF(a_n,3,labels=False))\n",
    "print(\"Array de numpy:\\n\",discretizarEF(n_n,3,labels=False))\n",
    "print(\"Series de pandas:\\n\",discretizarEF(p_n,3,labels=False))"
   ]
  },
  {
   "cell_type": "markdown",
   "metadata": {},
   "source": [
    "Si queremos que nos muestre los intervalos a los que pertenecen en los arrays en lugar de los indices ponemos el flag de labels a True"
   ]
  },
  {
   "cell_type": "code",
   "execution_count": 20,
   "metadata": {},
   "outputs": [
    {
     "name": "stdout",
     "output_type": "stream",
     "text": [
      "Discretización por igual anchura\n",
      "Array de python:\n",
      " ['[-inf, 3.80]', '[-inf, 3.80]', '[3.80, 6.30]', '[-inf, 3.80]', '[-inf, 3.80]', '[3.80, 6.30]', '[6.30, inf]', '[6.30, inf]', '[-inf, 3.80]', '[6.30, inf]']\n",
      "Categories (3, object): ['[-inf, 3.80]' < '[3.80, 6.30]' < '[6.30, inf]']\n",
      "\n",
      "Array de numpy:\n",
      " ['[-inf, 3.80]', '[-inf, 3.80]', '[3.80, 6.30]', '[-inf, 3.80]', '[-inf, 3.80]', '[3.80, 6.30]', '[6.30, inf]', '[6.30, inf]', '[-inf, 3.80]', '[6.30, inf]']\n",
      "Categories (3, object): ['[-inf, 3.80]' < '[3.80, 6.30]' < '[6.30, inf]']\n",
      "\n",
      "Series de pandas:\n",
      " ['[-inf, 3.80]', '[-inf, 3.80]', '[3.80, 6.30]', '[-inf, 3.80]', '[-inf, 3.80]', '[3.80, 6.30]', '[6.30, inf]', '[6.30, inf]', '[-inf, 3.80]', '[6.30, inf]']\n",
      "Categories (3, object): ['[-inf, 3.80]' < '[3.80, 6.30]' < '[6.30, inf]']\n",
      "\n",
      "Discretización por igual frecuencia\n",
      "Array de python:\n",
      " ['[-inf, 3.60]', '[-inf, 3.60]', '[3.60, 5.60]', '[3.60, 5.60]', '[-inf, 3.60]', '[3.60, 5.60]', '[5.60, inf]', '[5.60, inf]', '[-inf, 3.60]', '[5.60, inf]']\n",
      "Categories (3, object): ['[-inf, 3.60]' < '[3.60, 5.60]' < '[5.60, inf]']\n",
      "\n",
      "Array de numpy:\n",
      " ['[-inf, 3.60]', '[-inf, 3.60]', '[3.60, 5.60]', '[3.60, 5.60]', '[-inf, 3.60]', '[3.60, 5.60]', '[5.60, inf]', '[5.60, inf]', '[-inf, 3.60]', '[5.60, inf]']\n",
      "Categories (3, object): ['[-inf, 3.60]' < '[3.60, 5.60]' < '[5.60, inf]']\n",
      "\n",
      "Series de pandas:\n",
      " ['[-inf, 3.60]', '[-inf, 3.60]', '[3.60, 5.60]', '[3.60, 5.60]', '[-inf, 3.60]', '[3.60, 5.60]', '[5.60, inf]', '[5.60, inf]', '[-inf, 3.60]', '[5.60, inf]']\n",
      "Categories (3, object): ['[-inf, 3.60]' < '[3.60, 5.60]' < '[5.60, inf]']\n"
     ]
    }
   ],
   "source": [
    "#discretización por igual anchura\n",
    "print('Discretización por igual anchura')\n",
    "print(\"Array de python:\\n\",discretizarEW(a_n,3,labels=True))\n",
    "print(\"\\nArray de numpy:\\n\",discretizarEW(n_n,3,labels=True))\n",
    "print(\"\\nSeries de pandas:\\n\",discretizarEW(p_n,3,labels=True))\n",
    "\n",
    "#discretización por igual frecuencia\n",
    "print('\\nDiscretización por igual frecuencia')\n",
    "print(\"Array de python:\\n\",discretizarEF(a_n,3,labels=True))\n",
    "print(\"\\nArray de numpy:\\n\",discretizarEF(n_n,3,labels=True))\n",
    "print(\"\\nSeries de pandas:\\n\",discretizarEF(p_n,3,labels=True))"
   ]
  },
  {
   "cell_type": "markdown",
   "metadata": {},
   "source": [
    "Discretización para el dataset completo. (Esto solo afectará a las variables continuas del dataset, que en este caso son: \"Problem_1\", \"Problem_2\", Problem_3\" y \"Extra_Points\")"
   ]
  },
  {
   "cell_type": "code",
   "execution_count": 21,
   "metadata": {},
   "outputs": [
    {
     "name": "stdout",
     "output_type": "stream",
     "text": [
      "Discretización por igual anchura\n",
      "     Name    Subject  Problem_1  Problem_2  Problem_3  Extra_Points   Pass\n",
      "0    Juan       Math          1          0          0             1   True\n",
      "1   Pedro    Biology          2          2          2             0   True\n",
      "2   Maria  Chemistry          0          1          2             1   True\n",
      "3    Jose       Math          0          2          2             2   True\n",
      "4    Luis       Math          0          0          0             0  False\n",
      "5     Ana    Biology          1          0          1             0  False\n",
      "6    Rosa  Chemistry          0          0          0             0  False\n",
      "7  Carlos       Math          2          2          2             0   True\n",
      "8   Jorge       Math          0          1          0             0  False\n",
      "9   Luisa    Biology          2          1          1             0   True\n",
      "\n",
      "Discretización por igual frecuencia\n",
      "     Name    Subject  Problem_1  Problem_2  Problem_3  Extra_Points   Pass\n",
      "0    Juan       Math          1          0          0             1   True\n",
      "1   Pedro    Biology          2          2          2             0   True\n",
      "2   Maria  Chemistry          0          1          1             1   True\n",
      "3    Jose       Math          0          2          2             1   True\n",
      "4    Luis       Math          0          0          0             0  False\n",
      "5     Ana    Biology          1          0          1             0  False\n",
      "6    Rosa  Chemistry          1          0          0             0  False\n",
      "7  Carlos       Math          2          2          2             0   True\n",
      "8   Jorge       Math          0          1          0             0  False\n",
      "9   Luisa    Biology          2          1          1             0   True\n"
     ]
    }
   ],
   "source": [
    "#discretización por igual anchura\n",
    "print('Discretización por igual anchura')\n",
    "df_ew = discretizarEW(df,3)\n",
    "print(df_ew)\n",
    "\n",
    "#discretización por igual frecuencia\n",
    "print('\\nDiscretización por igual frecuencia')\n",
    "df_ef = discretizarEF(df,3)\n",
    "print(df_ef)"
   ]
  },
  {
   "cell_type": "markdown",
   "metadata": {},
   "source": [
    "El flag labels tambien es aplicable a los dataframes:"
   ]
  },
  {
   "cell_type": "code",
   "execution_count": 22,
   "metadata": {},
   "outputs": [
    {
     "name": "stdout",
     "output_type": "stream",
     "text": [
      "Discretización por igual anchura\n",
      "     Name    Subject     Problem_1     Problem_2       Problem_3  \\\n",
      "0    Juan       Math  [5.17, 7.33]  [-inf, 0.47]   [-inf, 37.00]   \n",
      "1   Pedro    Biology   [7.33, inf]   [0.68, inf]    [61.00, inf]   \n",
      "2   Maria  Chemistry  [-inf, 5.17]  [0.47, 0.68]    [61.00, inf]   \n",
      "3    Jose       Math  [-inf, 5.17]   [0.68, inf]    [61.00, inf]   \n",
      "4    Luis       Math  [-inf, 5.17]  [-inf, 0.47]   [-inf, 37.00]   \n",
      "5     Ana    Biology  [5.17, 7.33]  [-inf, 0.47]  [37.00, 61.00]   \n",
      "6    Rosa  Chemistry  [-inf, 5.17]  [-inf, 0.47]   [-inf, 37.00]   \n",
      "7  Carlos       Math   [7.33, inf]   [0.68, inf]    [61.00, inf]   \n",
      "8   Jorge       Math  [-inf, 5.17]  [0.47, 0.68]   [-inf, 37.00]   \n",
      "9   Luisa    Biology   [7.33, inf]  [0.47, 0.68]  [37.00, 61.00]   \n",
      "\n",
      "   Extra_Points   Pass  \n",
      "0  [1.00, 2.00]   True  \n",
      "1  [-inf, 1.00]   True  \n",
      "2  [1.00, 2.00]   True  \n",
      "3   [2.00, inf]   True  \n",
      "4  [-inf, 1.00]  False  \n",
      "5  [-inf, 1.00]  False  \n",
      "6  [-inf, 1.00]  False  \n",
      "7  [-inf, 1.00]   True  \n",
      "8  [-inf, 1.00]  False  \n",
      "9  [-inf, 1.00]   True  \n"
     ]
    }
   ],
   "source": [
    "#discretización por igual anchura\n",
    "print('Discretización por igual anchura')\n",
    "df_ew = discretizarEW(df,3,labels=True)\n",
    "print(df_ew)"
   ]
  },
  {
   "cell_type": "markdown",
   "metadata": {},
   "source": [
    "# Cálculo de métricas para los atributos de un dataset: varianza y AUC para las variables contínuas y entropía para las discretas"
   ]
  },
  {
   "cell_type": "markdown",
   "metadata": {},
   "source": [
    "Calculo de la entropía para un solo vector"
   ]
  },
  {
   "cell_type": "code",
   "execution_count": 23,
   "metadata": {},
   "outputs": [
    {
     "name": "stdout",
     "output_type": "stream",
     "text": [
      "Calculo de la entropía Vector: ['a', 'a', 'c', 'b', 'c', 'j', 's', 'h', 'b', 'j']\n",
      "Array de python:\n",
      " 2.521928094887362\n",
      "Array de numpy:\n",
      " 2.521928094887362\n",
      "Series de pandas:\n",
      " 2.521928094887362\n"
     ]
    }
   ],
   "source": [
    "print('Calculo de la entropía', 'Vector:', a_l)\n",
    "print(\"Array de python:\\n\",entropia(a_l))\n",
    "print(\"Array de numpy:\\n\",entropia(n_l))\n",
    "print(\"Series de pandas:\\n\",entropia(p_l))"
   ]
  },
  {
   "cell_type": "markdown",
   "metadata": {},
   "source": [
    "Calculo de la entropía para un dataframe, este calculo solo se aplicará a las variables discretas."
   ]
  },
  {
   "cell_type": "code",
   "execution_count": 24,
   "metadata": {},
   "outputs": [
    {
     "name": "stdout",
     "output_type": "stream",
     "text": [
      "Entropía\n",
      "Name       3.321928\n",
      "Subject    1.485475\n",
      "Pass       0.970951\n",
      "dtype: float64\n"
     ]
    }
   ],
   "source": [
    "print('Entropía')\n",
    "print(entropia(df))"
   ]
  },
  {
   "cell_type": "markdown",
   "metadata": {},
   "source": [
    "Calculo de la varianza para un solo vector"
   ]
  },
  {
   "cell_type": "code",
   "execution_count": 25,
   "metadata": {},
   "outputs": [
    {
     "name": "stdout",
     "output_type": "stream",
     "text": [
      "Calculo de la varianza Vector: [1.6, 3.6, 5.5, 3.7, 1.3, 5.6, 7.3, 8.8, 2.5, 6.9]\n",
      "Array de python:\n",
      " 6.452888888888889\n",
      "Array de numpy:\n",
      " 6.452888888888889\n",
      "Series de pandas:\n",
      " 6.452888888888889\n"
     ]
    }
   ],
   "source": [
    "print('Calculo de la varianza', 'Vector:', a_n)\n",
    "print(\"Array de python:\\n\",varianza(a_n))\n",
    "print(\"Array de numpy:\\n\",varianza(n_n))\n",
    "print(\"Series de pandas:\\n\",varianza(p_n))"
   ]
  },
  {
   "cell_type": "markdown",
   "metadata": {},
   "source": [
    "Como podemos ver en el siguiente ejemplo, al descomentar la siguiente línea saltará una excepción si intentamos calcular la varianza de un vector de valores no numéricos. \n",
    "\n",
    "(Este mismo error saltará con todas aquellas funciones que solo sean aplicables a vectores numéricos: varianza, covarianza, desviación típica, estandarización y normalización.)"
   ]
  },
  {
   "cell_type": "code",
   "execution_count": 14,
   "metadata": {},
   "outputs": [
    {
     "ename": "Exception",
     "evalue": "El vector debe ser numérico",
     "output_type": "error",
     "traceback": [
      "\u001b[1;31m---------------------------------------------------------------------------\u001b[0m",
      "\u001b[1;31mUFuncTypeError\u001b[0m                            Traceback (most recent call last)",
      "File \u001b[1;32mc:\\Users\\rriano\\OneDrive - IKERLAN S.COOP\\Desktop\\asignatura online\\entrega\\functions\\metricas.py:57\u001b[0m, in \u001b[0;36mv_varianza\u001b[1;34m(x)\u001b[0m\n\u001b[0;32m     56\u001b[0m         x \u001b[39m=\u001b[39m x\u001b[39m.\u001b[39mvalues\n\u001b[1;32m---> 57\u001b[0m     \u001b[39mreturn\u001b[39;00m np\u001b[39m.\u001b[39msum((x\u001b[39m-\u001b[39mnp\u001b[39m.\u001b[39;49mmean(x))\u001b[39m*\u001b[39m\u001b[39m*\u001b[39m\u001b[39m2\u001b[39m)\u001b[39m/\u001b[39m(\u001b[39mlen\u001b[39m(x)\u001b[39m-\u001b[39m\u001b[39m1\u001b[39m)\n\u001b[0;32m     58\u001b[0m \u001b[39mexcept\u001b[39;00m:\n",
      "File \u001b[1;32m~\\AppData\\Local\\Packages\\PythonSoftwareFoundation.Python.3.11_qbz5n2kfra8p0\\LocalCache\\local-packages\\Python311\\site-packages\\numpy\\core\\fromnumeric.py:3504\u001b[0m, in \u001b[0;36mmean\u001b[1;34m(a, axis, dtype, out, keepdims, where)\u001b[0m\n\u001b[0;32m   3502\u001b[0m         \u001b[39mreturn\u001b[39;00m mean(axis\u001b[39m=\u001b[39maxis, dtype\u001b[39m=\u001b[39mdtype, out\u001b[39m=\u001b[39mout, \u001b[39m*\u001b[39m\u001b[39m*\u001b[39mkwargs)\n\u001b[1;32m-> 3504\u001b[0m \u001b[39mreturn\u001b[39;00m _methods\u001b[39m.\u001b[39;49m_mean(a, axis\u001b[39m=\u001b[39;49maxis, dtype\u001b[39m=\u001b[39;49mdtype,\n\u001b[0;32m   3505\u001b[0m                       out\u001b[39m=\u001b[39;49mout, \u001b[39m*\u001b[39;49m\u001b[39m*\u001b[39;49mkwargs)\n",
      "File \u001b[1;32m~\\AppData\\Local\\Packages\\PythonSoftwareFoundation.Python.3.11_qbz5n2kfra8p0\\LocalCache\\local-packages\\Python311\\site-packages\\numpy\\core\\_methods.py:118\u001b[0m, in \u001b[0;36m_mean\u001b[1;34m(a, axis, dtype, out, keepdims, where)\u001b[0m\n\u001b[0;32m    116\u001b[0m         is_float16_result \u001b[39m=\u001b[39m \u001b[39mTrue\u001b[39;00m\n\u001b[1;32m--> 118\u001b[0m ret \u001b[39m=\u001b[39m umr_sum(arr, axis, dtype, out, keepdims, where\u001b[39m=\u001b[39;49mwhere)\n\u001b[0;32m    119\u001b[0m \u001b[39mif\u001b[39;00m \u001b[39misinstance\u001b[39m(ret, mu\u001b[39m.\u001b[39mndarray):\n",
      "\u001b[1;31mUFuncTypeError\u001b[0m: ufunc 'add' did not contain a loop with signature matching types (dtype('<U1'), dtype('<U1')) -> None",
      "\nDuring handling of the above exception, another exception occurred:\n",
      "\u001b[1;31mException\u001b[0m                                 Traceback (most recent call last)",
      "\u001b[1;32mc:\\Users\\rriano\\OneDrive - IKERLAN S.COOP\\Desktop\\asignatura online\\entrega\\Doc.ipynb Cell 28\u001b[0m line \u001b[0;36m2\n\u001b[0;32m      <a href='vscode-notebook-cell:/c%3A/Users/rriano/OneDrive%20-%20IKERLAN%20S.COOP/Desktop/asignatura%20online/entrega/Doc.ipynb#X36sZmlsZQ%3D%3D?line=0'>1</a>\u001b[0m \u001b[39m# Descomentar la siguiente linea para ver el error\u001b[39;00m\n\u001b[1;32m----> <a href='vscode-notebook-cell:/c%3A/Users/rriano/OneDrive%20-%20IKERLAN%20S.COOP/Desktop/asignatura%20online/entrega/Doc.ipynb#X36sZmlsZQ%3D%3D?line=1'>2</a>\u001b[0m \u001b[39mprint\u001b[39m(varianza(a_l))\n",
      "File \u001b[1;32mc:\\Users\\rriano\\OneDrive - IKERLAN S.COOP\\Desktop\\asignatura online\\entrega\\functions\\metricas.py:83\u001b[0m, in \u001b[0;36mvarianza\u001b[1;34m(x)\u001b[0m\n\u001b[0;32m     81\u001b[0m     \u001b[39mreturn\u001b[39;00m t_varianza(x)\n\u001b[0;32m     82\u001b[0m \u001b[39melse\u001b[39;00m:\n\u001b[1;32m---> 83\u001b[0m     \u001b[39mreturn\u001b[39;00m v_varianza(x)\n",
      "File \u001b[1;32mc:\\Users\\rriano\\OneDrive - IKERLAN S.COOP\\Desktop\\asignatura online\\entrega\\functions\\metricas.py:59\u001b[0m, in \u001b[0;36mv_varianza\u001b[1;34m(x)\u001b[0m\n\u001b[0;32m     57\u001b[0m     \u001b[39mreturn\u001b[39;00m np\u001b[39m.\u001b[39msum((x\u001b[39m-\u001b[39mnp\u001b[39m.\u001b[39mmean(x))\u001b[39m*\u001b[39m\u001b[39m*\u001b[39m\u001b[39m2\u001b[39m)\u001b[39m/\u001b[39m(\u001b[39mlen\u001b[39m(x)\u001b[39m-\u001b[39m\u001b[39m1\u001b[39m)\n\u001b[0;32m     58\u001b[0m \u001b[39mexcept\u001b[39;00m:\n\u001b[1;32m---> 59\u001b[0m     \u001b[39mraise\u001b[39;00m \u001b[39mException\u001b[39;00m(\u001b[39m'\u001b[39m\u001b[39mEl vector debe ser numérico\u001b[39m\u001b[39m'\u001b[39m)\n",
      "\u001b[1;31mException\u001b[0m: El vector debe ser numérico"
     ]
    }
   ],
   "source": [
    "# Descomentar la siguiente linea para ver el error\n",
    "# print(varianza(a_l))"
   ]
  },
  {
   "cell_type": "markdown",
   "metadata": {},
   "source": [
    "Calculo de la varianza para un dataframe, este calculo solo se aplicará a las variables numéricas."
   ]
  },
  {
   "cell_type": "code",
   "execution_count": 26,
   "metadata": {},
   "outputs": [
    {
     "name": "stdout",
     "output_type": "stream",
     "text": [
      "Varianza\n",
      "Problem_1         5.266667\n",
      "Problem_2         0.049583\n",
      "Problem_3       651.788889\n",
      "Extra_Points      0.988889\n",
      "dtype: float64\n"
     ]
    }
   ],
   "source": [
    "print('Varianza')\n",
    "print(varianza(df))"
   ]
  },
  {
   "cell_type": "markdown",
   "metadata": {},
   "source": [
    "Cáculo de la covarianza entre dos vectores"
   ]
  },
  {
   "cell_type": "code",
   "execution_count": 27,
   "metadata": {},
   "outputs": [
    {
     "name": "stdout",
     "output_type": "stream",
     "text": [
      "Calculo de la covarianza \n",
      "Vector1: [1.6, 3.6, 5.5, 3.7, 1.3, 5.6, 7.3, 8.8, 2.5, 6.9] \n",
      "Vector2: [1.3, 5.6, 3.4, 3.6, 2.6, 5.6, 3.7, 7.1, 8.3, 6.0]\n",
      "\n",
      "Array de python:\n",
      " 2.1937777777777776\n",
      "Array de numpy:\n",
      " 2.1937777777777776\n",
      "Series de pandas:\n",
      " 2.1937777777777776\n",
      "Array de python y de numpy:\n",
      " 2.1937777777777776\n",
      "Array de python y de pandas:\n",
      " 2.1937777777777776\n",
      "Array de numpy y de pandas:\n",
      " 2.1937777777777776\n"
     ]
    }
   ],
   "source": [
    "#generamos otro vector de cada tipo para probar esta funcion\n",
    "a_n2 = [1.3,5.6,3.4,3.6,2.6,5.6,3.7,7.1,8.3,6.0]\n",
    "n_n2 = np.array(a_n2)\n",
    "p_n2 = pd.Series(a_n2)\n",
    "\n",
    "print('Calculo de la covarianza', '\\nVector1:', a_n, '\\nVector2:', a_n2)\n",
    "print(\"\\nArray de python:\\n\",covarianza(a_n,a_n2))\n",
    "print(\"Array de numpy:\\n\",covarianza(n_n,n_n2))\n",
    "print(\"Series de pandas:\\n\",covarianza(p_n,p_n2))\n",
    "\n",
    "#Tambien es aplicable a mezclas de tipos de vectores\n",
    "print('Array de python y de numpy:\\n',covarianza(a_n,n_n2))\n",
    "print('Array de python y de pandas:\\n',covarianza(a_n,p_n2))\n",
    "print('Array de numpy y de pandas:\\n',covarianza(n_n,p_n2))"
   ]
  },
  {
   "cell_type": "markdown",
   "metadata": {},
   "source": [
    "Cálculo de la desviación típica"
   ]
  },
  {
   "cell_type": "code",
   "execution_count": 28,
   "metadata": {},
   "outputs": [
    {
     "name": "stdout",
     "output_type": "stream",
     "text": [
      "Desviación típica Vector: [1.6, 3.6, 5.5, 3.7, 1.3, 5.6, 7.3, 8.8, 2.5, 6.9]\n",
      "Array de python:\n",
      " 2.540253705614636\n",
      "Array de numpy:\n",
      " 2.540253705614636\n",
      "Series de pandas:\n",
      " 2.540253705614636\n"
     ]
    }
   ],
   "source": [
    "print('Desviación típica', 'Vector:', a_n)\n",
    "print(\"Array de python:\\n\",desviacion(a_n))\n",
    "print(\"Array de numpy:\\n\",desviacion(n_n))\n",
    "print(\"Series de pandas:\\n\",desviacion(p_n))"
   ]
  },
  {
   "cell_type": "markdown",
   "metadata": {},
   "source": [
    "Cálculo del AUC  de un dataframe. Para esto tenemos que especificar el dataset, la columna objetivo y la clase binaria que usaremos. Y nos devolverá dos listas (valores de true positive y false positive rate para cada punto de corte) y el valor del AUC."
   ]
  },
  {
   "cell_type": "code",
   "execution_count": 29,
   "metadata": {},
   "outputs": [
    {
     "name": "stdout",
     "output_type": "stream",
     "text": [
      "AUC\n",
      "True positive rate:\n",
      " [0.3333333333333333, 0.5, 0.5, 0.6666666666666666, 0.6666666666666666, 0.8333333333333334, 1.0, 1.0]\n",
      "False positive rate:\n",
      " [0.0, 0.0, 0.25, 0.25, 0.5, 0.5, 0.75, 1.0]\n",
      "AUC:\n",
      " 0.22916666666666669\n"
     ]
    }
   ],
   "source": [
    "print('AUC')\n",
    "tpr, fpr, auc_val = aucf(df,'Problem_1','Pass')\n",
    "print('True positive rate:\\n',tpr)\n",
    "print('False positive rate:\\n',fpr)\n",
    "print('AUC:\\n',auc_val)"
   ]
  },
  {
   "cell_type": "markdown",
   "metadata": {},
   "source": [
    "Con las dos listas que nos devuelve podemos representar la curva ROC. Disponemos del flag \"zoom\" que hace que la gráfica se ajuste solamente a la curva, por defecto estará en false"
   ]
  },
  {
   "cell_type": "code",
   "execution_count": 30,
   "metadata": {},
   "outputs": [
    {
     "name": "stdout",
     "output_type": "stream",
     "text": [
      "zoom = False\n"
     ]
    },
    {
     "data": {
      "image/png": "[encoded data removed]",
      "text/plain": [
       "<Figure size 640x480 with 1 Axes>"
      ]
     },
     "metadata": {},
     "output_type": "display_data"
    },
    {
     "name": "stdout",
     "output_type": "stream",
     "text": [
      "zoom = True\n"
     ]
    },
    {
     "data": {
      "image/png": "[encoded data removed]",
      "text/plain": [
       "<Figure size 640x480 with 1 Axes>"
      ]
     },
     "metadata": {},
     "output_type": "display_data"
    }
   ],
   "source": [
    "print(\"zoom = False\")\n",
    "plot_roc_curve(tpr,fpr)\n",
    "\n",
    "print(\"zoom = True\")\n",
    "plot_roc_curve(tpr,fpr,zoom=True)"
   ]
  },
  {
   "cell_type": "markdown",
   "metadata": {},
   "source": [
    "La función metricas calcula la varianza y AUC para las variables contínuas y entropía para las discretas de un dataframe. Para el AUC es necesario especificar una variable clase binaria con la que evaluar el AUC de los atributos numéricos, en caso de no introducirla se omitirá esta métrica. Disponemos del falg Roc_curve que nos permite plotear todas las curvas ROC de las variables continuas en caso de ponerlo a True, por defecto estará en False.\n",
    "\n",
    "La función devolverá dos datasets, uno para las variables continuas y otro para las categóricas."
   ]
  },
  {
   "cell_type": "code",
   "execution_count": 31,
   "metadata": {},
   "outputs": [
    {
     "name": "stdout",
     "output_type": "stream",
     "text": [
      "Variables continuas:\n",
      "                 Varianza       AUC\n",
      "Problem_1       5.266667  0.229167\n",
      "Problem_2       0.049583  0.062500\n",
      "Problem_3     651.788889  0.041667\n",
      "Extra_Points    0.988889  0.208333\n",
      "\n",
      "variables categoricas:\n",
      "          Entropia\n",
      "Name     3.321928\n",
      "Subject  1.485475\n",
      "Pass     0.970951\n"
     ]
    }
   ],
   "source": [
    "continuas, categoricas = metricas(df, 'Pass')\n",
    "print('Variables continuas:\\n', continuas)\n",
    "print('\\nvariables categoricas:\\n', categoricas)\n"
   ]
  },
  {
   "cell_type": "markdown",
   "metadata": {},
   "source": [
    "# Normalización y estandarización de variables, tanto de manera individual  como para el dataset completo."
   ]
  },
  {
   "cell_type": "markdown",
   "metadata": {},
   "source": [
    "La función normalizar nos permite aplicar dicha transformacion tanto a vectores numéricos de todos los tipos mencionados previamente como a todas las columnas numéricas de un dataframe."
   ]
  },
  {
   "cell_type": "code",
   "execution_count": 32,
   "metadata": {},
   "outputs": [
    {
     "name": "stdout",
     "output_type": "stream",
     "text": [
      "Vector: [1.6, 3.6, 5.5, 3.7, 1.3, 5.6, 7.3, 8.8, 2.5, 6.9]\n",
      "\n",
      "Array de python estandarizado:\n",
      " [0.04       0.30666667 0.56       0.32       0.         0.57333333\n",
      " 0.8        1.         0.16       0.74666667]\n",
      "Array de numpy estandarizado:\n",
      " [0.04       0.30666667 0.56       0.32       0.         0.57333333\n",
      " 0.8        1.         0.16       0.74666667]\n",
      "Series de pandas estandarizado:\n",
      " [0.04       0.30666667 0.56       0.32       0.         0.57333333\n",
      " 0.8        1.         0.16       0.74666667]\n",
      "\n",
      "----------------------------------\n",
      "\n",
      "Dataframe normalizado:\n",
      "      Name    Subject  Problem_1  Problem_2  Problem_3  Extra_Points   Pass\n",
      "0    Juan       Math   0.384615   0.307692   0.305556      0.666667   True\n",
      "1   Pedro    Biology   1.000000   1.000000   1.000000      0.000000   True\n",
      "2   Maria  Chemistry   0.153846   0.538462   0.791667      0.666667   True\n",
      "3    Jose       Math   0.230769   0.769231   1.000000      1.000000   True\n",
      "4    Luis       Math   0.000000   0.076923   0.236111      0.000000  False\n",
      "5     Ana    Biology   0.538462   0.000000   0.444444      0.333333  False\n",
      "6    Rosa  Chemistry   0.307692   0.230769   0.236111      0.000000  False\n",
      "7  Carlos       Math   1.000000   0.923077   0.861111      0.333333   True\n",
      "8   Jorge       Math   0.153846   0.538462   0.000000      0.333333  False\n",
      "9   Luisa    Biology   0.692308   0.615385   0.583333      0.333333   True\n"
     ]
    }
   ],
   "source": [
    "print('Vector:', a_n)\n",
    "print(\"\\nArray de python estandarizado:\\n\",normalizar(a_n))\n",
    "print(\"Array de numpy estandarizado:\\n\",normalizar(n_n))\n",
    "print(\"Series de pandas estandarizado:\\n\",normalizar(p_n))\n",
    "\n",
    "print('\\n----------------------------------\\n')\n",
    "print('Dataframe normalizado:\\n', normalizar(df))"
   ]
  },
  {
   "cell_type": "markdown",
   "metadata": {},
   "source": [
    "De la misma manera la funcion estandarizar nos permite aplicar dicha transformazión al mismo tipo de datos que en el caso de la función normalizar."
   ]
  },
  {
   "cell_type": "code",
   "execution_count": 33,
   "metadata": {},
   "outputs": [
    {
     "name": "stdout",
     "output_type": "stream",
     "text": [
      "Vector: [1.6, 3.6, 5.5, 3.7, 1.3, 5.6, 7.3, 8.8, 2.5, 6.9]\n",
      "\n",
      "Array de python estandarizado:\n",
      " [-1.21247732 -0.42515438  0.3228024  -0.38578824 -1.33057576  0.36216855\n",
      "  1.03139304  1.62188524 -0.858182    0.87392846]\n",
      "Array de numpy estandarizado:\n",
      " [-1.21247732 -0.42515438  0.3228024  -0.38578824 -1.33057576  0.36216855\n",
      "  1.03139304  1.62188524 -0.858182    0.87392846]\n",
      "Series de pandas estandarizado:\n",
      " [-1.21247732 -0.42515438  0.3228024  -0.38578824 -1.33057576  0.36216855\n",
      "  1.03139304  1.62188524 -0.858182    0.87392846]\n",
      "\n",
      "----------------------------------\n",
      "\n",
      "Dataframe estandarizado:\n",
      "      Name    Subject  Problem_1  Problem_2  Problem_3  Extra_Points   Pass\n",
      "0    Juan       Math  -0.174298  -0.561361  -0.677630      0.905042   True\n",
      "1   Pedro    Biology   1.568681   1.459538   1.280838     -1.106163   True\n",
      "2   Maria  Chemistry  -0.827915   0.112272   0.693298      0.905042   True\n",
      "3    Jose       Math  -0.610043   0.785905   1.280838      1.910644   True\n",
      "4    Luis       Math  -1.263660  -1.234994  -0.873477     -1.106163  False\n",
      "5     Ana    Biology   0.261447  -1.459538  -0.285936     -0.100560  False\n",
      "6    Rosa  Chemistry  -0.392170  -0.785905  -0.873477     -1.106163  False\n",
      "7  Carlos       Math   1.568681   1.234994   0.889145     -0.100560   True\n",
      "8   Jorge       Math  -0.827915   0.112272  -1.539356     -0.100560  False\n",
      "9   Luisa    Biology   0.697191   0.336817   0.105757     -0.100560   True\n"
     ]
    }
   ],
   "source": [
    "print('Vector:', a_n)\n",
    "print(\"\\nArray de python estandarizado:\\n\",estandarizar(a_n))\n",
    "print(\"Array de numpy estandarizado:\\n\",estandarizar(n_n))\n",
    "print(\"Series de pandas estandarizado:\\n\",estandarizar(p_n))\n",
    "\n",
    "print('\\n----------------------------------\\n')\n",
    "print('Dataframe estandarizado:\\n', estandarizar(df))"
   ]
  },
  {
   "cell_type": "markdown",
   "metadata": {},
   "source": [
    "# Filtrado de variables en base a las métricas implementadas."
   ]
  },
  {
   "cell_type": "markdown",
   "metadata": {},
   "source": [
    "La función filtrar nos permite quedarnos solo con aquellas variables que cumplan con las condiciones que especifiquemos. \n",
    "\n",
    "Recibe un dataframe, las condiciones de varianza y entropía y los valores para cada una de dichas condiciones. Solo se filtrará por las condiciones introducidas, es decir, si se introduce la condicion de varianza pero no la de entropía, solo se filtrará por la primera."
   ]
  },
  {
   "cell_type": "code",
   "execution_count": 34,
   "metadata": {},
   "outputs": [
    {
     "name": "stdout",
     "output_type": "stream",
     "text": [
      "Estado original del dataframe normalizado:\n",
      "      Name    Subject  Problem_1  Problem_2  Problem_3  Extra_Points   Pass\n",
      "0    Juan       Math   0.384615   0.307692   0.305556      0.666667   True\n",
      "1   Pedro    Biology   1.000000   1.000000   1.000000      0.000000   True\n",
      "2   Maria  Chemistry   0.153846   0.538462   0.791667      0.666667   True\n",
      "3    Jose       Math   0.230769   0.769231   1.000000      1.000000   True\n",
      "4    Luis       Math   0.000000   0.076923   0.236111      0.000000  False\n",
      "5     Ana    Biology   0.538462   0.000000   0.444444      0.333333  False\n",
      "6    Rosa  Chemistry   0.307692   0.230769   0.236111      0.000000  False\n",
      "7  Carlos       Math   1.000000   0.923077   0.861111      0.333333   True\n",
      "8   Jorge       Math   0.153846   0.538462   0.000000      0.333333  False\n",
      "9   Luisa    Biology   0.692308   0.615385   0.583333      0.333333   True\n"
     ]
    }
   ],
   "source": [
    "#normalizamos el dataframe\n",
    "df_n = normalizar(df)\n",
    "\n",
    "print('Estado original del dataframe normalizado:\\n',df_n)"
   ]
  },
  {
   "cell_type": "markdown",
   "metadata": {},
   "source": [
    "Calculamos la entropía del dataframe y vemos con que valor filtrar"
   ]
  },
  {
   "cell_type": "code",
   "execution_count": 35,
   "metadata": {},
   "outputs": [
    {
     "name": "stdout",
     "output_type": "stream",
     "text": [
      "Name       3.321928\n",
      "Subject    1.485475\n",
      "Pass       0.970951\n",
      "dtype: float64\n"
     ]
    }
   ],
   "source": [
    "print(entropia(df_n))"
   ]
  },
  {
   "cell_type": "markdown",
   "metadata": {},
   "source": [
    "Filtramos con entropía < 1"
   ]
  },
  {
   "cell_type": "code",
   "execution_count": 36,
   "metadata": {},
   "outputs": [
    {
     "name": "stdout",
     "output_type": "stream",
     "text": [
      "Dataframe filtrado por entropía < 1.0:\n",
      "\n",
      "    Problem_1  Problem_2  Problem_3  Extra_Points   Pass\n",
      "0   0.384615   0.307692   0.305556      0.666667   True\n",
      "1   1.000000   1.000000   1.000000      0.000000   True\n",
      "2   0.153846   0.538462   0.791667      0.666667   True\n",
      "3   0.230769   0.769231   1.000000      1.000000   True\n",
      "4   0.000000   0.076923   0.236111      0.000000  False\n",
      "5   0.538462   0.000000   0.444444      0.333333  False\n",
      "6   0.307692   0.230769   0.236111      0.000000  False\n",
      "7   1.000000   0.923077   0.861111      0.333333   True\n",
      "8   0.153846   0.538462   0.000000      0.333333  False\n",
      "9   0.692308   0.615385   0.583333      0.333333   True\n"
     ]
    }
   ],
   "source": [
    "filtered_df = filtrar(df_n,Entropy = True ,condition = '<', value = 1.0)\n",
    "print('Dataframe filtrado por entropía < 1.0:\\n\\n', filtered_df)"
   ]
  },
  {
   "cell_type": "markdown",
   "metadata": {},
   "source": [
    "Como hemos podido ver se han eliminado las columnas Name y Subject"
   ]
  },
  {
   "cell_type": "markdown",
   "metadata": {},
   "source": [
    "Ahora vemos la varianza del dataframe."
   ]
  },
  {
   "cell_type": "code",
   "execution_count": 37,
   "metadata": {},
   "outputs": [
    {
     "name": "stdout",
     "output_type": "stream",
     "text": [
      "Problem_1       0.124655\n",
      "Problem_2       0.117357\n",
      "Problem_3       0.125731\n",
      "Extra_Points    0.109877\n",
      "dtype: float64\n"
     ]
    }
   ],
   "source": [
    "print(varianza(filtered_df))"
   ]
  },
  {
   "cell_type": "markdown",
   "metadata": {},
   "source": [
    "Filtramos el dataset que hemos filtrado previemente por la entropía y lo filtramos ahora por varianza >= 0.117357"
   ]
  },
  {
   "cell_type": "code",
   "execution_count": 38,
   "metadata": {},
   "outputs": [
    {
     "name": "stdout",
     "output_type": "stream",
     "text": [
      "Dataframe filtrado por varianza >= 0.117357 y entropía < 1:\n",
      "\n",
      "    Problem_1  Problem_2  Problem_3   Pass\n",
      "0   0.384615   0.307692   0.305556   True\n",
      "1   1.000000   1.000000   1.000000   True\n",
      "2   0.153846   0.538462   0.791667   True\n",
      "3   0.230769   0.769231   1.000000   True\n",
      "4   0.000000   0.076923   0.236111  False\n",
      "5   0.538462   0.000000   0.444444  False\n",
      "6   0.307692   0.230769   0.236111  False\n",
      "7   1.000000   0.923077   0.861111   True\n",
      "8   0.153846   0.538462   0.000000  False\n",
      "9   0.692308   0.615385   0.583333   True\n"
     ]
    }
   ],
   "source": [
    "print('Dataframe filtrado por varianza >= 0.117357 y entropía < 1:\\n\\n', filtrar(filtered_df,Entropy = False, condition = '>=', value = 0.117357))"
   ]
  },
  {
   "cell_type": "markdown",
   "metadata": {},
   "source": [
    "Como resultado obtenemos un dataset cuyas variables numéricas tienen una varianza >= 0.117357 y las variables discretas tienen una entroía < 1"
   ]
  },
  {
   "cell_type": "markdown",
   "metadata": {},
   "source": [
    "# Cálculo de la correlación (información mutua en el caso de variables categóricas) por pares entre variables de un dataset."
   ]
  },
  {
   "cell_type": "markdown",
   "metadata": {},
   "source": [
    "La funcion correlacion nos permite obtener un la correlación entre todas las variables numéricas de un dataframe.\n",
    "\n",
    "Nos devuelve un dataframe únicamente con los resultados de las variables analizadas y otro con la matriz de correlaciones. De esta manera tendremos dos maneras de ver los datos."
   ]
  },
  {
   "cell_type": "code",
   "execution_count": 39,
   "metadata": {},
   "outputs": [
    {
     "name": "stdout",
     "output_type": "stream",
     "text": [
      "Correlaciones por pares:\n",
      "                         Correlacion\n",
      "Problem_1-Problem_2        0.597936\n",
      "Problem_1-Problem_3        0.542947\n",
      "Problem_1-Extra_Points    -0.238568\n",
      "Problem_2-Problem_3        0.719745\n",
      "Problem_2-Extra_Points     0.188169\n",
      "Problem_3-Extra_Points     0.340057\n",
      "\n",
      "----------------------------------\n",
      "\n",
      "Matriz de correlaciones:\n",
      "               Problem_1  Problem_2  Problem_3  Extra_Points\n",
      "Problem_1      1.000000   0.597936   0.542947     -0.238568\n",
      "Problem_2      0.597936   1.000000   0.719745      0.188169\n",
      "Problem_3      0.542947   0.719745   1.000000      0.340057\n",
      "Extra_Points  -0.238568   0.188169   0.340057      1.000000\n"
     ]
    }
   ],
   "source": [
    "#Introducimos el dataframe normalizado\n",
    "df1,df2 = correlacion(df_n)\n",
    "print('Correlaciones por pares:\\n',df1)\n",
    "print('\\n----------------------------------\\n')\n",
    "print('Matriz de correlaciones:\\n',df2)"
   ]
  },
  {
   "cell_type": "markdown",
   "metadata": {},
   "source": [
    "La funcion informacion_mutua nos permite calcular la informacion mutua entre las variables discretas del dataframe.\n",
    "\n",
    "De la misma manera que el anterior, devolverá dos dataframes, uno únicamente con los resultados de las variables analizadas y otro con la matriz de información mutua. "
   ]
  },
  {
   "cell_type": "code",
   "execution_count": 40,
   "metadata": {},
   "outputs": [
    {
     "name": "stdout",
     "output_type": "stream",
     "text": [
      "Información mutua por pares:\n",
      "               Informacion mutua\n",
      "Name-Subject           1.485475\n",
      "Name-Pass              0.970951\n",
      "Subject-Pass           0.009987\n",
      "\n",
      "----------------------------------\n",
      "\n",
      "Matriz de información mutua:\n",
      "              Name   Subject      Pass\n",
      "Name     3.321928  1.485475  0.970951\n",
      "Subject  1.485475  1.485475  0.009987\n",
      "Pass     0.970951  0.009987  0.970951\n"
     ]
    }
   ],
   "source": [
    "#Introducimos el dataframe normalizado\n",
    "df1,df2 = informacion_mutua(df_n)\n",
    "print('Información mutua por pares:\\n',df1)\n",
    "print('\\n----------------------------------\\n')\n",
    "print('Matriz de información mutua:\\n',df2)"
   ]
  },
  {
   "cell_type": "markdown",
   "metadata": {},
   "source": [
    "Por último disponemos de la funcion cor_mut, que nos calculará la correlacion de las variables nuericas del dataset y la información mutua de las variables discretas.\n",
    "\n",
    "Devolverá 3 dataframes, uno con las correlaciones por pares, otro con las informaciones mutuas por pares y un último que recoje en forma de matriz las correlaciones y las informaciones mutuas."
   ]
  },
  {
   "cell_type": "code",
   "execution_count": 41,
   "metadata": {},
   "outputs": [
    {
     "name": "stdout",
     "output_type": "stream",
     "text": [
      "Correlaciones por pares:\n",
      "                         Correlacion\n",
      "Problem_1-Problem_2        0.597936\n",
      "Problem_1-Problem_3        0.542947\n",
      "Problem_1-Extra_Points    -0.238568\n",
      "Problem_2-Problem_3        0.719745\n",
      "Problem_2-Extra_Points     0.188169\n",
      "Problem_3-Extra_Points     0.340057\n",
      "\n",
      "----------------------------------\n",
      "\n",
      "Información mutua por pares:\n",
      "               Informacion mutua\n",
      "Name-Subject           1.485475\n",
      "Name-Pass              0.970951\n",
      "Subject-Pass           0.009987\n",
      "\n",
      "----------------------------------\n",
      "\n",
      "Matriz de correlaciones e información mutua:\n",
      "               Problem_1  Problem_2  Problem_3  Extra_Points      Name  \\\n",
      "Problem_1      1.000000   0.597936   0.542947     -0.238568       NaN   \n",
      "Problem_2      0.597936   1.000000   0.719745      0.188169       NaN   \n",
      "Problem_3      0.542947   0.719745   1.000000      0.340057       NaN   \n",
      "Extra_Points  -0.238568   0.188169   0.340057      1.000000       NaN   \n",
      "Name                NaN        NaN        NaN           NaN  3.321928   \n",
      "Subject             NaN        NaN        NaN           NaN  1.485475   \n",
      "Pass                NaN        NaN        NaN           NaN  0.970951   \n",
      "\n",
      "               Subject      Pass  \n",
      "Problem_1          NaN       NaN  \n",
      "Problem_2          NaN       NaN  \n",
      "Problem_3          NaN       NaN  \n",
      "Extra_Points       NaN       NaN  \n",
      "Name          1.485475  0.970951  \n",
      "Subject       1.485475  0.009987  \n",
      "Pass          0.009987  0.970951  \n"
     ]
    }
   ],
   "source": [
    "cor, inf, mat = cor_mut(df_n)\n",
    "\n",
    "print('Correlaciones por pares:\\n',cor)\n",
    "print('\\n----------------------------------\\n')\n",
    "print('Información mutua por pares:\\n',inf)\n",
    "print('\\n----------------------------------\\n')\n",
    "print('Matriz de correlaciones e información mutua:\\n',mat)\n"
   ]
  },
  {
   "cell_type": "markdown",
   "metadata": {},
   "source": [
    "Ploteamos la matriz con la funcion plot_mat_heatmap"
   ]
  },
  {
   "cell_type": "code",
   "execution_count": 42,
   "metadata": {},
   "outputs": [
    {
     "data": {
      "image/png": "[encoded data removed]",
      "text/plain": [
       "<Figure size 640x480 with 2 Axes>"
      ]
     },
     "metadata": {},
     "output_type": "display_data"
    }
   ],
   "source": [
    "plot_mat_heatmap(mat)"
   ]
  },
  {
   "cell_type": "markdown",
   "metadata": {},
   "source": [
    "Como podemos ver arriba a la derecha se encuentran las correlaciones de las variables continuas y abajo a la izquierda se encuentran las informaciones mutuas de las variables discretas.\n",
    "\n",
    "Si queremos que estén ordenado de la misma manera que el dataset original podemos introducirlo tambien en la función y tomará dicha estructura para representar la matriz."
   ]
  },
  {
   "cell_type": "code",
   "execution_count": 43,
   "metadata": {},
   "outputs": [
    {
     "data": {
      "image/png": "[encoded data removed]",
      "text/plain": [
       "<Figure size 640x480 with 2 Axes>"
      ]
     },
     "metadata": {},
     "output_type": "display_data"
    }
   ],
   "source": [
    "plot_mat_heatmap(mat,df)"
   ]
  }
 ],
 "metadata": {
  "kernelspec": {
   "display_name": "Python 3",
   "language": "python",
   "name": "python3"
  },
  "language_info": {
   "codemirror_mode": {
    "name": "ipython",
    "version": 3
   },
   "file_extension": ".py",
   "mimetype": "text/x-python",
   "name": "python",
   "nbconvert_exporter": "python",
   "pygments_lexer": "ipython3",
   "version": "3.8.10"
  }
 },
 "nbformat": 4,
 "nbformat_minor": 2
}
